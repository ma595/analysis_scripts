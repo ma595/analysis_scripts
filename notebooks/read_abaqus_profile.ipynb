{
 "cells": [
  {
   "cell_type": "code",
   "execution_count": 42,
   "metadata": {
    "collapsed": true
   },
   "outputs": [],
   "source": [
    "import pandas as pd\n",
    "import matplotlib.pyplot as plt\n",
    "%matplotlib inline"
   ]
  },
  {
   "cell_type": "code",
   "execution_count": 39,
   "metadata": {
    "collapsed": false
   },
   "outputs": [],
   "source": [
    "# df = pd.read_csv('data/profile_fem_50_p_cu.out', delim_whitespace=True, skiprows=2, header=None)"
   ]
  },
  {
   "cell_type": "code",
   "execution_count": 57,
   "metadata": {
    "collapsed": false
   },
   "outputs": [
    {
     "data": {
      "text/html": [
       "<div>\n",
       "<table border=\"1\" class=\"dataframe\">\n",
       "  <thead>\n",
       "    <tr style=\"text-align: right;\">\n",
       "      <th></th>\n",
       "      <th>originalx</th>\n",
       "      <th>originaly</th>\n",
       "      <th>dispx</th>\n",
       "      <th>dispy</th>\n",
       "      <th>newx</th>\n",
       "      <th>newy</th>\n",
       "    </tr>\n",
       "  </thead>\n",
       "  <tbody>\n",
       "    <tr>\n",
       "      <th>0</th>\n",
       "      <td>0.00400</td>\n",
       "      <td>0.0001</td>\n",
       "      <td>0.000000</td>\n",
       "      <td>0.000000</td>\n",
       "      <td>4.000000</td>\n",
       "      <td>0.000000</td>\n",
       "    </tr>\n",
       "    <tr>\n",
       "      <th>1</th>\n",
       "      <td>0.00398</td>\n",
       "      <td>0.0001</td>\n",
       "      <td>0.000003</td>\n",
       "      <td>0.000010</td>\n",
       "      <td>3.980003</td>\n",
       "      <td>0.000010</td>\n",
       "    </tr>\n",
       "    <tr>\n",
       "      <th>2</th>\n",
       "      <td>0.00396</td>\n",
       "      <td>0.0001</td>\n",
       "      <td>0.000001</td>\n",
       "      <td>0.000009</td>\n",
       "      <td>3.960001</td>\n",
       "      <td>0.000009</td>\n",
       "    </tr>\n",
       "    <tr>\n",
       "      <th>3</th>\n",
       "      <td>0.00394</td>\n",
       "      <td>0.0001</td>\n",
       "      <td>0.000003</td>\n",
       "      <td>0.000004</td>\n",
       "      <td>3.940003</td>\n",
       "      <td>0.000004</td>\n",
       "    </tr>\n",
       "    <tr>\n",
       "      <th>4</th>\n",
       "      <td>0.00392</td>\n",
       "      <td>0.0001</td>\n",
       "      <td>0.000006</td>\n",
       "      <td>-0.000003</td>\n",
       "      <td>3.920006</td>\n",
       "      <td>-0.000003</td>\n",
       "    </tr>\n",
       "  </tbody>\n",
       "</table>\n",
       "</div>"
      ],
      "text/plain": [
       "   originalx  originaly     dispx     dispy      newx      newy\n",
       "0    0.00400     0.0001  0.000000  0.000000  4.000000  0.000000\n",
       "1    0.00398     0.0001  0.000003  0.000010  3.980003  0.000010\n",
       "2    0.00396     0.0001  0.000001  0.000009  3.960001  0.000009\n",
       "3    0.00394     0.0001  0.000003  0.000004  3.940003  0.000004\n",
       "4    0.00392     0.0001  0.000006 -0.000003  3.920006 -0.000003"
      ]
     },
     "execution_count": 57,
     "metadata": {},
     "output_type": "execute_result"
    }
   ],
   "source": [
    "df = pd.read_csv('../out/coating_surface-profile.csv', delimiter=' ',escapechar=\"#\")\n",
    "df['newx'] = df['originalx'] + df['dispx']\n",
    "df['newy'] = df['dispy']\n",
    "df['newx'] *= 1000\n",
    "df['newy'] *= 1000\n",
    "df['dispx'] *= 1000\n",
    "df['dispy'] *= 1000\n",
    "\n",
    "df.head()"
   ]
  },
  {
   "cell_type": "code",
   "execution_count": 53,
   "metadata": {
    "collapsed": false
   },
   "outputs": [
    {
     "name": "stdout",
     "output_type": "stream",
     "text": [
      "0.0088491\n",
      "-0.054459\n"
     ]
    }
   ],
   "source": [
    "print(df['dispy'].max())\n",
    "print(df['dispy'].min())"
   ]
  },
  {
   "cell_type": "code",
   "execution_count": 60,
   "metadata": {
    "collapsed": false
   },
   "outputs": [
    {
     "data": {
      "image/png": "[encoded data removed]",
      "text/plain": [
       "<matplotlib.figure.Figure at 0x7fad093864e0>"
      ]
     },
     "metadata": {},
     "output_type": "display_data"
    }
   ],
   "source": [
    "x = df['newx']\n",
    "y = df['newy']\n",
    "plt.xlim(0,0.5)\n",
    "plt.ylim(-0.1,0.05)\n",
    "plt.scatter(x,y)\n",
    "plt.show(); # Depending on whether you use IPython or interactive mode, etc.\n",
    "# df.plot(x='newx', y='newy', style='o')"
   ]
  },
  {
   "cell_type": "code",
   "execution_count": null,
   "metadata": {
    "collapsed": true
   },
   "outputs": [],
   "source": [
    "y = df_30.iloc[:,5]\n",
    "x = df_30.iloc[:,2]\n",
    "y1 = df_100.iloc[:,5]"
   ]
  },
  {
   "cell_type": "code",
   "execution_count": 24,
   "metadata": {
    "collapsed": false
   },
   "outputs": [],
   "source": [
    "df = df.drop([0,1,2,3,6], axis=1)\n",
    "# df.columns = ['x','y']\n",
    "new_columns = df.columns.values"
   ]
  },
  {
   "cell_type": "code",
   "execution_count": 28,
   "metadata": {
    "collapsed": false
   },
   "outputs": [],
   "source": [
    "df = df.rename(columns = {4 : 'x', 5 : 'y'}, inplace = True)"
   ]
  },
  {
   "cell_type": "code",
   "execution_count": 35,
   "metadata": {
    "collapsed": false
   },
   "outputs": [
    {
     "name": "stdout",
     "output_type": "stream",
     "text": [
      "0.000278557\n",
      "-0.000492141\n"
     ]
    }
   ],
   "source": [
    "print(df['y'].max())\n",
    "print(df['y'].min())"
   ]
  },
  {
   "cell_type": "code",
   "execution_count": null,
   "metadata": {
    "collapsed": true
   },
   "outputs": [],
   "source": []
  }
 ],
 "metadata": {
  "kernelspec": {
   "display_name": "Python 3",
   "language": "python",
   "name": "python3"
  },
  "language_info": {
   "codemirror_mode": {
    "name": "ipython",
    "version": 3
   },
   "file_extension": ".py",
   "mimetype": "text/x-python",
   "name": "python",
   "nbconvert_exporter": "python",
   "pygments_lexer": "ipython3",
   "version": "3.5.2"
  }
 },
 "nbformat": 4,
 "nbformat_minor": 2
}
